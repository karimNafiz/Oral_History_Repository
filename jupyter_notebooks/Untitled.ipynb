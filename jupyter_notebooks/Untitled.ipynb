{
 "cells": [
  {
   "cell_type": "code",
   "execution_count": null,
   "id": "b1f00a82-4cdc-4595-8386-2a332bf69094",
   "metadata": {},
   "outputs": [],
   "source": [
    "from sentence_transformers import SentenceTransformer\n",
    "from sklearn.metrics.pairwise import cosine_similarity\n",
    "import nltk\n",
    "\n",
    "# Download tokenizer data (first time only)\n",
    "# nltk.download('punkt')\n",
    "from nltk.tokenize import sent_tokenize"
   ]
  },
  {
   "cell_type": "code",
   "execution_count": null,
   "id": "99f7ff22-0b0b-47ef-8ad8-35ab6a6172f6",
   "metadata": {},
   "outputs": [],
   "source": [
    "# Load the pretrained model\n",
    "model = SentenceTransformer('all-MiniLM-L6-v2')"
   ]
  },
  {
   "cell_type": "code",
   "execution_count": null,
   "id": "3e9ed984-903f-45b7-9bdd-36139aee0c49",
   "metadata": {},
   "outputs": [],
   "source": [
    "# Raw text\n",
    "raw_text = \"\"\"\n",
    "In the fall of 1970, Canada was plunged into its worst crisis since the Second World War when a radical Quebec group raised the stakes on separatism.\n",
    "On the morning of October 5, 1970, four men posing as deliverymen kidnapped British trade commissioner James Richard Cross from his plush Montreal residence.\n",
    "\n",
    "Cross was in the hands of Quebec's most radical separatist group, the Front de Libération du Québec (FLQ). Since 1963, the FLQ had been involved in over 200 bombings in Quebec. Now the self-described revolutionary movement was changing tactics.\n",
    "\n",
    "The kidnappers threatened to kill Cross unless the government released 23 prison inmates charged with crimes committed in the name of the Front. The FLQ insisted these people were political prisoners. They also wanted their manifesto to be read on national television.\n",
    "\n",
    "At first, both the federal and provincial governments - led by Prime Minister Pierre Trudeau and Premier Robert Bourassa - downplayed the kidnapping. The Quebec government said it was open to negotiate with the FLQ and even allowed the group's staunchly separatist manifesto to be read on Radio-Canada.\n",
    "\n",
    "\"We have had enough of promises of work and prosperity,\" the manifesto read. \"When in fact we will always be the diligent servants and bootlickers of the big shots ... we will be slaves until Quebecers, all of us, have used every means, including dynamite and guns, to drive out these big bosses of the economy and of politics, who will stoop to any action, however base, the better to screw us ...\"\n",
    "\n",
    "Despite some government concessions, the crisis escalated. Five days after the Cross kidnapping, the FLQ struck again kidnapping Pierre Laporte, the Quebec minister of labour and the government's senior Cabinet minister.\n",
    "\n",
    "The news sent ripples of panic through the public and gave the impression that the FLQ was a large, powerful organization. The kidnapping put tremendous pressure on the young premier who turned to Ottawa for help.\n",
    "\n",
    "The federal government sent in the army to protect politicians and important buildings. For Pierre Trudeau, a lifelong champion of individual rights, it was a defining moment. In one exchange with CBC reporter Tim Rafe, Trudeau displayed an iron resolve.\n",
    "Reporter: \"Sir what is it with all these men with guns around here?\"\n",
    "\n",
    "Trudeau: \" There's a lot of bleeding hearts around who don't like to see people with helmets and guns. All I can say is 'go ahead and bleed' but it's more important to keep law and order in this society than to be worried about weak-kneed people who don't like the looks of...\"\n",
    "\n",
    "Reporter: \"At what cost? How far would you go? To what extent?\"\n",
    "\n",
    "Trudeau: \"Well, just watch me.\"\n",
    "\n",
    "As the country watched, events continued to unfold in Quebec. On October 15, three thousand people gathered at Paul Sauvé Arena to show support for the FLQ's separatist ideas. The FLQ's lawyer, Robert Lemieux, fired them up.\n",
    "\n",
    "\"We're going to organize, choose our ground, and WE WILL VANQUISH.\"\n",
    "\n",
    "All signs indicated that the FLQ was a powerful force in Quebec. Bourassa and Montreal Mayor Jean Drapeau urged Ottawa to invoke the War Measures Act.\n",
    "\n",
    "\"What else can I do?\" Bourassa reportedly told a colleague. \"I personally know a great number of the people who will be arrested ... I know that my political career is over. The economic recovery, the foreign investment, the 100,000 new jobs, all that has just gone up in smoke.\"\n",
    "\n",
    "On October 16, Trudeau invoked the War Measures Act, which suspended basic civil rights and liberties. It allowed police searches and arrests without warrants, and prolonged detentions without charges and without the right to see a lawyer. It was the first time in Canadian history the Act was used during peacetime.\n",
    "\n",
    "That morning the police arrested 405 people including Quebec singer Pauline Julien.\n",
    "\n",
    "\"They didn't ask us anything,\" Julien remembered. \"I refused to stay in the living-room during their search. I told them: You are in my house, I'm going with you everywhere. They didn't behave that badly, they weren't as brutal as I have head they were elsewhere.\"\n",
    "\n",
    "Julien's partner, leftist journalist Gérald Godin, was also arrested.\n",
    "\n",
    "\"Why was I in jail?,\" said Godin. \"If only they had questioned me, I might have had an inkling. What had I said? What had I written or published?\"\n",
    "\n",
    "Some of those arrested under the War Measures Act were kept behind bars for 21 days - the full period allowed under the Act - but most were released after a few hours without being charged. Julien and Godin were detained for eight days, then released without charges.\n",
    "\n",
    "The day after the first arrests, the tide turned for the FLQ. On the night of October 17, an FLQ communiqué led police to a car parked near St. Hubert airport. In the trunk was the body of Pierre Laporte. He had been strangled to death.\n",
    "\n",
    "It was the first political assassination in Canada since the murder of Thomas d'Arcy McGee 102 years earlier. Laporte's death would mark the beginning of the end of the FLQ as sympathy abruptly shifted away from the group.\n",
    "\n",
    "On November 6, Bernard Lortie was arrested when the police raided the hiding place of the Laporte kidnappers. Three members escaped the raid but were captured in late December. Paul Rose and Francis Simard received life sentences for murder. Bernard Lortie was sentenced to 20 years in jail for kidnapping. Jacques Rose was convicted of being an accessory after the fact and sentenced to eight years in jail.\n",
    "\n",
    "After two months of captivity, James Cross was released as part of a deal, which allowed five kidnappers to leave Canada. Over the years, all of the exiled FLQ members returned to Canada to face trial. They were all convicted of kidnapping and sentenced to jail terms. A sixth Cross kidnapper remained in Montreal and was arrested in July 1980 and convicted of kidnapping.\n",
    "\n",
    "Several years later, after extensive investigation, it became apparent that the FLQ was not the major paramilitary organization many had believed. It was an informal group, organized in small, autonomous cells, whose members dreamed of a separate and socialist Quebec. At the time of the October Crisis, the group had no more than thirty-five members.\n",
    "\n",
    "The FLQ ceased activities in 1971.\n",
    "\"\"\"\n"
   ]
  },
  {
   "cell_type": "code",
   "execution_count": null,
   "id": "cd9c74d7-1d57-49ac-bcf4-ebe3b58b0f27",
   "metadata": {},
   "outputs": [],
   "source": [
    "# Sentence splitting\n",
    "sentences = sent_tokenize(raw_text)"
   ]
  },
  {
   "cell_type": "code",
   "execution_count": null,
   "id": "f5dfb536-4d91-42a6-8b0b-186c66b70bd4",
   "metadata": {},
   "outputs": [],
   "source": [
    "# Encode sentences\n",
    "embeddings = model.encode(sentences)"
   ]
  },
  {
   "cell_type": "code",
   "execution_count": null,
   "id": "4166db0a-117a-4fb9-983b-90204820b426",
   "metadata": {},
   "outputs": [],
   "source": [
    "# Test query — pass directly as string, not list\n",
    "test_sentence = \"kidnappings in montreal\"\n",
    "test_sentence_encoding = model.encode(test_sentence)"
   ]
  },
  {
   "cell_type": "code",
   "execution_count": null,
   "id": "69da1585-7346-4f83-a3be-15f1a69b9916",
   "metadata": {},
   "outputs": [],
   "source": [
    "# Loop over corpus sentences\n",
    "for corpus_sentence, corpus_embedding in zip(sentences, embeddings):\n",
    "    print(\"original sentence:\", corpus_sentence)\n",
    "    similarity = cosine_similarity([corpus_embedding], [test_sentence_encoding])\n",
    "    print(\"cosine similarity:\", similarity[0][0])"
   ]
  },
  {
   "cell_type": "code",
   "execution_count": null,
   "id": "4fc3ee57-af40-459f-9a44-69ef3c58282f",
   "metadata": {},
   "outputs": [],
   "source": [
    "def CheckSimilarity(sentence_encoding , tokenized_corpus, corpus_embedding):\n",
    "    temp = make_bounded_max_heap(10 , [])\n",
    "    for corpus_sentence , corpus_embedding in zip(tokenized_corpus, corpus_embedding):\n",
    "        similarity = cosine_similarity([corpus_embedding],[sentence_encoding])\n",
    "        temp[\"push\"]((similarity , corpus_sentence))\n",
    "    return temp\n",
    "        \n",
    "    \n",
    "    "
   ]
  },
  {
   "cell_type": "code",
   "execution_count": null,
   "id": "49ad23a7-cf91-483b-b2c6-a619bd2cc950",
   "metadata": {},
   "outputs": [],
   "source": [
    "import heapq\n",
    "\n",
    "def make_bounded_max_heap(max_size: int, initial: list = None):\n",
    "\n",
    "    # Use a min-heap of negative priorities to implement a max-heap\n",
    "    heap = []\n",
    "    if initial:\n",
    "        for prio, val in initial:\n",
    "            heapq.heappush(heap, (-prio, val))\n",
    "        # If initial has more than max_size, pop extras\n",
    "        while len(heap) > max_size:\n",
    "            heapq.heappop(heap)\n",
    "\n",
    "    def push(item: tuple[float, object]):\n",
    "        \"\"\"\n",
    "        item = (priority, value). Larger priority = higher in the top 5.\n",
    "        \"\"\"\n",
    "        prio, val = item\n",
    "        if len(heap) < max_size:\n",
    "            heapq.heappush(heap, (-prio, val))\n",
    "        else:\n",
    "            # If the new prio is bigger than the smallest of the current top-5:\n",
    "            if prio > -heap[0][0]:\n",
    "                # Replace the smallest\n",
    "                heapq.heapreplace(heap, (-prio, val))\n",
    "        # No return needed; heap is mutated in place.\n",
    "\n",
    "    def top5():\n",
    "        # Return a list of (priority, value) in descending order\n",
    "        return [(-p, v) for p, v in sorted(heap)]\n",
    "\n",
    "    return {\"heap\": heap, \"push\": push, \"top5\": top5}\n",
    "        \n",
    "    "
   ]
  },
  {
   "cell_type": "code",
   "execution_count": 25,
   "id": "e5f037ba-414f-44ab-9b61-2edb517acb26",
   "metadata": {},
   "outputs": [
    {
     "name": "stdout",
     "output_type": "stream",
     "text": [
      "[(array([[0.70831954]], dtype=float32), 'A sixth Cross kidnapper remained in Montreal and was arrested in July 1980 and convicted of kidnapping.'), (array([[0.4505567]], dtype=float32), 'On the morning of October 5, 1970, four men posing as deliverymen kidnapped British trade commissioner James Richard Cross from his plush Montreal residence.'), (array([[0.35085264]], dtype=float32), '\\nIn the fall of 1970, Canada was plunged into its worst crisis since the Second World War when a radical Quebec group raised the stakes on separatism.'), (array([[0.34271604]], dtype=float32), 'The kidnappers threatened to kill Cross unless the government released 23 prison inmates charged with crimes committed in the name of the Front.'), (array([[0.32653952]], dtype=float32), 'Since 1963, the FLQ had been involved in over 200 bombings in Quebec.'), (array([[0.2753917]], dtype=float32), \"Cross was in the hands of Quebec's most radical separatist group, the Front de Libération du Québec (FLQ).\"), (array([[0.24304761]], dtype=float32), \"The Quebec government said it was open to negotiate with the FLQ and even allowed the group's staunchly separatist manifesto to be read on Radio-Canada.\"), (array([[0.17335758]], dtype=float32), 'The FLQ insisted these people were political prisoners.'), (array([[0.10450418]], dtype=float32), 'Now the self-described revolutionary movement was changing tactics.'), (array([[0.06710015]], dtype=float32), 'They also wanted their manifesto to be read on national television.')]\n"
     ]
    }
   ],
   "source": [
    "temp = CheckSimilarity(test_sentence_encoding , sentences , embeddings)\n",
    "print(temp[\"top5\"]())"
   ]
  },
  {
   "cell_type": "code",
   "execution_count": 23,
   "id": "8611e4ec-6ed5-4a04-ae1e-bf66fb11315d",
   "metadata": {},
   "outputs": [
    {
     "ename": "SyntaxError",
     "evalue": "invalid syntax (1701800699.py, line 2)",
     "output_type": "error",
     "traceback": [
      "  \u001b[36mCell\u001b[39m\u001b[36m \u001b[39m\u001b[32mIn[23]\u001b[39m\u001b[32m, line 2\u001b[39m\n\u001b[31m    \u001b[39m\u001b[31mfrom ../oral_history_repository_project/models import corpus\u001b[39m\n           ^\n\u001b[31mSyntaxError\u001b[39m\u001b[31m:\u001b[39m invalid syntax\n"
     ]
    }
   ],
   "source": []
  },
  {
   "cell_type": "code",
   "execution_count": null,
   "id": "d82291b8-7cf7-4953-b1db-6c3c6c7781d4",
   "metadata": {},
   "outputs": [],
   "source": []
  }
 ],
 "metadata": {
  "kernelspec": {
   "display_name": "Python (myenv) oral_history_repository_virtual_environment ",
   "language": "python",
   "name": "env_oral_history_repository"
  },
  "language_info": {
   "codemirror_mode": {
    "name": "ipython",
    "version": 3
   },
   "file_extension": ".py",
   "mimetype": "text/x-python",
   "name": "python",
   "nbconvert_exporter": "python",
   "pygments_lexer": "ipython3",
   "version": "3.12.6"
  }
 },
 "nbformat": 4,
 "nbformat_minor": 5
}

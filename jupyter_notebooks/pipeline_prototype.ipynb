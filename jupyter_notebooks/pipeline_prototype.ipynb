{
 "cells": [
  {
   "cell_type": "code",
   "execution_count": 1,
   "id": "b9392d99-d5d9-46f1-88c5-a35c1e6e7e8f",
   "metadata": {},
   "outputs": [],
   "source": [
    "# import everything that is necessary"
   ]
  },
  {
   "cell_type": "code",
   "execution_count": 2,
   "id": "5f3520a8-bb75-4b1f-9cb7-b308ce1e6b8f",
   "metadata": {},
   "outputs": [],
   "source": [
    "from sentence_transformers import SentenceTransformer\n",
    "from sklearn.metrics.pairwise import cosine_similarity\n",
    "import nltk\n",
    "from nltk.tokenize import sent_tokenize\n"
   ]
  },
  {
   "cell_type": "code",
   "execution_count": 3,
   "id": "10d3bd9a-d710-4164-b165-968b37941dbf",
   "metadata": {},
   "outputs": [],
   "source": [
    "# sentence encoder\n",
    "sentence_encoder_model = SentenceTransformer('all-MiniLM-L6-v2')"
   ]
  },
  {
   "cell_type": "code",
   "execution_count": 4,
   "id": "70e556ad-9998-42e1-88f4-9ffc79fe663b",
   "metadata": {},
   "outputs": [],
   "source": [
    "# importing my package \n",
    "# importing the path lib\n",
    "from oral_history_repository_root.util import stream\n",
    "from pathlib import Path"
   ]
  },
  {
   "cell_type": "code",
   "execution_count": 5,
   "id": "9dba7053-f8ac-4fbd-978a-a577ba00ae7e",
   "metadata": {},
   "outputs": [],
   "source": [
    "# test file \n",
    "relative_path = Path(\"..\")/\"oral_history_repository_project\"/\"oral_history_repository_root\"/\"corpus_text\"\n",
    "filename = \"corpus1.txt\""
   ]
  },
  {
   "cell_type": "code",
   "execution_count": 6,
   "id": "320eb509-b0ea-4206-b8d1-6c90449eb135",
   "metadata": {},
   "outputs": [
    {
     "name": "stdout",
     "output_type": "stream",
     "text": [
      "sentence generated \n",
      " eaIn the fall of 1970, Canada was plunged into its worst crisis since the Second World War when a radical Quebec group raised the stakes on separatism.\n",
      "\n",
      "sentence generated \n",
      " On the morning of October 5, 1970, four men posing as deliverymen kidnapped British trade commissioner James Richard Cross from his plush Montreal residence.\n",
      "\n",
      "\n",
      "sentence generated \n",
      " Cross was in the hands of Quebec's most radical separatist group, the Front de Libération du Québec (FLQ).\n",
      "sentence generated \n",
      " Since 1963, the FLQ had been involved in over 200 bombings in Quebec.\n",
      "sentence generated \n",
      " Now the self-described revolutionary movement was changing tactics.\n",
      "\n",
      "\n",
      "sentence generated \n",
      " The kidnappers threatened to kill Cross unless the government released 23 prison inmates charged with crimes committed in the name of the Front.\n",
      "sentence generated \n",
      " The FLQ insisted these people were political prisoners.\n",
      "sentence generated \n",
      " They also wanted their manifesto to be read on national television.\n",
      "\n",
      "\n",
      "sentence generated \n",
      " At first, both the federal and provincial governments - led by Prime Minister Pierre Trudeau and Premier Robert Bourassa - downplayed the kidnapping.\n",
      "sentence generated \n",
      " The Quebec government said it was open to negotiate with the FLQ and even allowed the group's staunchly separatist manifesto to be read on Radio-Canada.\n",
      "\n",
      "\n",
      "sentence generated \n",
      " \"We have had enough of promises of work and prosperity,\" the manifesto read.\n",
      "sentence generated \n",
      " \"When in fact we will always be the diligent servants and bootlickers of the big shots ... we will be slaves until Quebecers, all of us, have used every means, including dynamite and guns, to drive out these big bosses of the economy and of politics, who will stoop to any action, however base, the better to screw us ...\n",
      "sentence generated \n",
      " \"\n",
      "\n",
      "Despite some government concessions, the crisis escalated.\n",
      "sentence generated \n",
      " Five days after the Cross kidnapping, the FLQ struck again kidnapping Pierre Laporte, the Quebec minister of labour and the government's senior Cabinet minister.\n",
      "\n",
      "\n",
      "sentence generated \n",
      " The news sent ripples of panic through the public and gave the impression that the FLQ was a large, powerful organization.\n",
      "sentence generated \n",
      " The kidnapping put tremendous pressure on the young premier who turned to Ottawa for help.\n",
      "\n",
      "\n",
      "sentence generated \n",
      " The federal government sent in the army to protect politicians and important buildings.\n",
      "sentence generated \n",
      " For Pierre Trudeau, a lifelong champion of individual rights, it was a defining moment.\n",
      "sentence generated \n",
      " In one exchange with CBC reporter Tim Rafe, Trudeau displayed an iron resolve.\n",
      "\n",
      "sentence generated \n",
      " Reporter:\n",
      "sentence generated \n",
      " \"Sir what is it with all these men with guns around here?\"\n",
      "\n",
      "Trudeau: \" There's a lot of bleeding hearts around who don't like to see people with helmets and guns.\n",
      "sentence generated \n",
      " All I can say is 'go ahead and bleed'\n",
      "sentence generated \n",
      " but it's more important to keep law and order in this society than to be worried about weak-kneed people who don't like the looks of...\"\n",
      "\n",
      "Reporter: \"At what cost?\n",
      "sentence generated \n",
      " How far would you go?\n",
      "sentence generated \n",
      " To what extent?\"\n",
      "\n",
      "Trudeau: \"Well, just watch me.\n",
      "sentence generated \n",
      " \"\n",
      "\n",
      "As the country watched, events continued to unfold in Quebec.\n",
      "sentence generated \n",
      " On October 15, three thousand people gathered at Paul Sauvé Arena to show support for the FLQ's separatist ideas.\n",
      "sentence generated \n",
      " The FLQ's lawyer, Robert Lemieux, fired them up.\n",
      "\n",
      "\n",
      "sentence generated \n",
      " \"We're going to organize, choose our ground, and WE WILL VANQUISH.\"\n",
      "\n",
      "All signs indicated that the FLQ was a powerful force in Quebec.\n",
      "sentence generated \n",
      " Bourassa and Montreal Mayor Jean Drapeau urged Ottawa to invoke the War Measures Act.\n",
      "\n",
      "\n",
      "sentence generated \n",
      " \"What else can I do?\"\n",
      "sentence generated \n",
      " Bourassa reportedly told a collgue.\n"
     ]
    },
    {
     "data": {
      "text/plain": [
       "[]"
      ]
     },
     "execution_count": 6,
     "metadata": {},
     "output_type": "execute_result"
    }
   ],
   "source": [
    "batched_sentence_gen = stream.stream_sentence_batch(filename , relative_path , 32)\n",
    "# for batch in batched_sentence_gen:\n",
    "#     print(batch)\n",
    "batched_sentence_gen.__next__()"
   ]
  },
  {
   "cell_type": "code",
   "execution_count": null,
   "id": "da671c83-a704-464a-bd97-8fa98c9dadf2",
   "metadata": {},
   "outputs": [],
   "source": []
  }
 ],
 "metadata": {
  "kernelspec": {
   "display_name": "Python (myenv) oral_history_repository_virtual_environment ",
   "language": "python",
   "name": "env_oral_history_repository"
  },
  "language_info": {
   "codemirror_mode": {
    "name": "ipython",
    "version": 3
   },
   "file_extension": ".py",
   "mimetype": "text/x-python",
   "name": "python",
   "nbconvert_exporter": "python",
   "pygments_lexer": "ipython3",
   "version": "3.12.6"
  }
 },
 "nbformat": 4,
 "nbformat_minor": 5
}

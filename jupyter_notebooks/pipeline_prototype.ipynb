{
 "cells": [
  {
   "cell_type": "code",
   "execution_count": 1,
   "id": "b9392d99-d5d9-46f1-88c5-a35c1e6e7e8f",
   "metadata": {},
   "outputs": [],
   "source": [
    "# import everything that is necessary"
   ]
  },
  {
   "cell_type": "code",
   "execution_count": 7,
   "id": "5f3520a8-bb75-4b1f-9cb7-b308ce1e6b8f",
   "metadata": {},
   "outputs": [],
   "source": [
    "from sentence_transformers import SentenceTransformer\n",
    "from sklearn.metrics.pairwise import cosine_similarity\n",
    "import nltk\n",
    "from nltk.tokenize import sent_tokenize\n"
   ]
  },
  {
   "cell_type": "code",
   "execution_count": 9,
   "id": "10d3bd9a-d710-4164-b165-968b37941dbf",
   "metadata": {},
   "outputs": [],
   "source": [
    "# sentence encoder\n",
    "sentence_encoder_model = SentenceTransformer('all-MiniLM-L6-v2')"
   ]
  },
  {
   "cell_type": "code",
   "execution_count": 11,
   "id": "70e556ad-9998-42e1-88f4-9ffc79fe663b",
   "metadata": {},
   "outputs": [],
   "source": [
    "# importing my package \n",
    "# importing the path lib\n",
    "from oral_history_repository_root.util import stream\n",
    "from pathlib import Path"
   ]
  },
  {
   "cell_type": "code",
   "execution_count": 13,
   "id": "9dba7053-f8ac-4fbd-978a-a577ba00ae7e",
   "metadata": {},
   "outputs": [],
   "source": [
    "# test file \n",
    "filename = \"corpus1.txt\""
   ]
  },
  {
   "cell_type": "code",
   "execution_count": null,
   "id": "320eb509-b0ea-4206-b8d1-6c90449eb135",
   "metadata": {},
   "outputs": [],
   "source": []
  }
 ],
 "metadata": {
  "kernelspec": {
   "display_name": "Python (myenv) oral_history_repository_virtual_environment ",
   "language": "python",
   "name": "env_oral_history_repository"
  },
  "language_info": {
   "codemirror_mode": {
    "name": "ipython",
    "version": 3
   },
   "file_extension": ".py",
   "mimetype": "text/x-python",
   "name": "python",
   "nbconvert_exporter": "python",
   "pygments_lexer": "ipython3",
   "version": "3.12.6"
  }
 },
 "nbformat": 4,
 "nbformat_minor": 5
}
